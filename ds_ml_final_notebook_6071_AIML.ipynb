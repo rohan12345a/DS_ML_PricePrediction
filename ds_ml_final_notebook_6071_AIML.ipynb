{
  "metadata": {
    "kernelspec": {
      "language": "python",
      "display_name": "Python 3",
      "name": "python3"
    },
    "language_info": {
      "name": "python",
      "version": "3.10.13",
      "mimetype": "text/x-python",
      "codemirror_mode": {
        "name": "ipython",
        "version": 3
      },
      "pygments_lexer": "ipython3",
      "nbconvert_exporter": "python",
      "file_extension": ".py"
    },
    "kaggle": {
      "accelerator": "none",
      "dataSources": [
        {
          "sourceId": 8383937,
          "sourceType": "datasetVersion",
          "datasetId": 4986139
        }
      ],
      "dockerImageVersionId": 30698,
      "isInternetEnabled": true,
      "language": "python",
      "sourceType": "notebook",
      "isGpuEnabled": false
    },
    "colab": {
      "provenance": []
    }
  },
  "nbformat_minor": 0,
  "nbformat": 4,
  "cells": [
    {
      "cell_type": "markdown",
      "source": [
        "# DS_ML Coding Challenge\n",
        "# ROHAN SARASWAT, PRN: 21070126071"
      ],
      "metadata": {
        "id": "KgcP_sfCK-zS"
      }
    },
    {
      "cell_type": "markdown",
      "source": [
        "### Problem Statement:\n",
        "Given a dataset containing historical records of sourcing costs for various products, the objective is to develop a predictive model that can accurately forecast future sourcing costs. The model should account for temporal patterns, seasonal variations, and other relevant factors to provide reliable predictions for strategic decision-making."
      ],
      "metadata": {
        "id": "rWDRoI4SK-zT"
      }
    },
    {
      "cell_type": "markdown",
      "source": [
        "**IMPORTING LIBRARIES**"
      ],
      "metadata": {
        "id": "Zqcar2HdK-zT"
      }
    },
    {
      "cell_type": "code",
      "source": [
        "import pandas as pd\n",
        "import numpy as np\n",
        "import matplotlib.pyplot as plt\n",
        "from statsmodels.tsa.seasonal import seasonal_decompose\n",
        "import seaborn as sns\n"
      ],
      "metadata": {
        "execution": {
          "iopub.status.busy": "2024-05-11T17:04:54.636859Z",
          "iopub.execute_input": "2024-05-11T17:04:54.637279Z",
          "iopub.status.idle": "2024-05-11T17:04:55.708893Z",
          "shell.execute_reply.started": "2024-05-11T17:04:54.637245Z",
          "shell.execute_reply": "2024-05-11T17:04:55.707953Z"
        },
        "trusted": true,
        "id": "kfwGxrOWK-zT"
      },
      "execution_count": null,
      "outputs": []
    },
    {
      "cell_type": "markdown",
      "source": [
        "**Loading Dataset**"
      ],
      "metadata": {
        "id": "arshHCDqK-zT"
      }
    },
    {
      "cell_type": "code",
      "source": [
        "data= pd.read_csv(\"/content/drive/MyDrive/DATASETS/DS_ML Coding Challenge Dataset (1).xlsx - Training Dataset.csv\")"
      ],
      "metadata": {
        "execution": {
          "iopub.status.busy": "2024-05-11T19:32:30.479725Z",
          "iopub.execute_input": "2024-05-11T19:32:30.480141Z",
          "iopub.status.idle": "2024-05-11T19:32:30.956766Z",
          "shell.execute_reply.started": "2024-05-11T19:32:30.480112Z",
          "shell.execute_reply": "2024-05-11T19:32:30.955590Z"
        },
        "trusted": true,
        "id": "3hQR1YltK-zU"
      },
      "execution_count": null,
      "outputs": []
    },
    {
      "cell_type": "markdown",
      "source": [
        "**Basic stats of Data**"
      ],
      "metadata": {
        "id": "4ejtGGPAK-zU"
      }
    },
    {
      "cell_type": "code",
      "source": [
        "data.info()"
      ],
      "metadata": {
        "execution": {
          "iopub.status.busy": "2024-05-11T19:32:38.876339Z",
          "iopub.execute_input": "2024-05-11T19:32:38.876771Z",
          "iopub.status.idle": "2024-05-11T19:32:39.064953Z",
          "shell.execute_reply.started": "2024-05-11T19:32:38.876740Z",
          "shell.execute_reply": "2024-05-11T19:32:39.063827Z"
        },
        "trusted": true,
        "id": "NuSGS-WAK-zU"
      },
      "execution_count": null,
      "outputs": []
    },
    {
      "cell_type": "code",
      "source": [
        "data.describe()"
      ],
      "metadata": {
        "execution": {
          "iopub.status.busy": "2024-05-11T19:32:41.279150Z",
          "iopub.execute_input": "2024-05-11T19:32:41.279560Z",
          "iopub.status.idle": "2024-05-11T19:32:41.315600Z",
          "shell.execute_reply.started": "2024-05-11T19:32:41.279529Z",
          "shell.execute_reply": "2024-05-11T19:32:41.314562Z"
        },
        "trusted": true,
        "id": "VPhNoLJAK-zU"
      },
      "execution_count": null,
      "outputs": []
    },
    {
      "cell_type": "markdown",
      "source": [
        "**No Null Values Found**"
      ],
      "metadata": {
        "id": "GJ8Rd1l4K-zU"
      }
    },
    {
      "cell_type": "code",
      "source": [
        "data.isnull().sum()"
      ],
      "metadata": {
        "execution": {
          "iopub.status.busy": "2024-05-11T19:32:48.043608Z",
          "iopub.execute_input": "2024-05-11T19:32:48.044409Z",
          "iopub.status.idle": "2024-05-11T19:32:48.226914Z",
          "shell.execute_reply.started": "2024-05-11T19:32:48.044349Z",
          "shell.execute_reply": "2024-05-11T19:32:48.225643Z"
        },
        "trusted": true,
        "id": "HFxIq2JsK-zU"
      },
      "execution_count": null,
      "outputs": []
    },
    {
      "cell_type": "markdown",
      "source": [
        "**DATA PREPROCESSING**"
      ],
      "metadata": {
        "id": "VFAsoBYxK-zV"
      }
    },
    {
      "cell_type": "code",
      "source": [
        "data.head()"
      ],
      "metadata": {
        "execution": {
          "iopub.status.busy": "2024-05-11T19:32:51.260477Z",
          "iopub.execute_input": "2024-05-11T19:32:51.260883Z",
          "iopub.status.idle": "2024-05-11T19:32:51.275477Z",
          "shell.execute_reply.started": "2024-05-11T19:32:51.260854Z",
          "shell.execute_reply": "2024-05-11T19:32:51.274436Z"
        },
        "trusted": true,
        "id": "Xg3ClbbjK-zV"
      },
      "execution_count": null,
      "outputs": []
    },
    {
      "cell_type": "code",
      "source": [
        "# Changing month of sourcing format to date-time:\n",
        "data['Month of Sourcing'] = pd.to_datetime(data['Month of Sourcing'], format='%b-%y')\n"
      ],
      "metadata": {
        "execution": {
          "iopub.status.busy": "2024-05-11T17:23:59.755852Z",
          "iopub.execute_input": "2024-05-11T17:23:59.756292Z",
          "iopub.status.idle": "2024-05-11T17:23:59.853265Z",
          "shell.execute_reply.started": "2024-05-11T17:23:59.756261Z",
          "shell.execute_reply": "2024-05-11T17:23:59.852396Z"
        },
        "trusted": true,
        "id": "AnF8DdRsK-zV"
      },
      "execution_count": null,
      "outputs": []
    },
    {
      "cell_type": "code",
      "source": [
        "data.head()"
      ],
      "metadata": {
        "execution": {
          "iopub.status.busy": "2024-05-11T17:24:08.141843Z",
          "iopub.execute_input": "2024-05-11T17:24:08.142225Z",
          "iopub.status.idle": "2024-05-11T17:24:08.156828Z",
          "shell.execute_reply.started": "2024-05-11T17:24:08.142195Z",
          "shell.execute_reply": "2024-05-11T17:24:08.155667Z"
        },
        "trusted": true,
        "id": "kQsFnyhvK-zV"
      },
      "execution_count": null,
      "outputs": []
    },
    {
      "cell_type": "code",
      "source": [
        "# Sorting Data By Months:\n",
        "data_sorted = data.sort_values(by='Month of Sourcing')"
      ],
      "metadata": {
        "execution": {
          "iopub.status.busy": "2024-05-11T17:26:49.442472Z",
          "iopub.execute_input": "2024-05-11T17:26:49.442882Z",
          "iopub.status.idle": "2024-05-11T17:26:49.609529Z",
          "shell.execute_reply.started": "2024-05-11T17:26:49.442852Z",
          "shell.execute_reply": "2024-05-11T17:26:49.608544Z"
        },
        "trusted": true,
        "id": "q4eu53OrK-zV"
      },
      "execution_count": null,
      "outputs": []
    },
    {
      "cell_type": "code",
      "source": [
        "# Calculating Unique Values in Data:\n",
        "unique_values_all_columns = {}\n",
        "for column in data_sorted.columns:\n",
        "    unique_values_all_columns[column] = data_sorted[column].unique()\n",
        "\n",
        "# Printing unique values for each column\n",
        "for column, unique_values in unique_values_all_columns.items():\n",
        "    print(f\"Unique values in column {column}:\")\n",
        "    print(unique_values)"
      ],
      "metadata": {
        "execution": {
          "iopub.status.busy": "2024-05-11T17:28:52.537436Z",
          "iopub.execute_input": "2024-05-11T17:28:52.538195Z",
          "iopub.status.idle": "2024-05-11T17:28:52.783775Z",
          "shell.execute_reply.started": "2024-05-11T17:28:52.538164Z",
          "shell.execute_reply": "2024-05-11T17:28:52.782651Z"
        },
        "trusted": true,
        "id": "2gMKYrcmK-zV"
      },
      "execution_count": null,
      "outputs": []
    },
    {
      "cell_type": "code",
      "source": [
        "# Calculating Q1 (25th percentile) and Q3 (75th percentile)\n",
        "Q1 = data['Sourcing Cost'].quantile(0.25)\n",
        "Q3 = data['Sourcing Cost'].quantile(0.75)\n",
        "\n",
        "# Calculating the interquartile range (IQR)\n",
        "IQR = Q3 - Q1\n",
        "\n",
        "lower_bound = Q1 - 1.5 * IQR\n",
        "upper_bound = Q3 + 1.5 * IQR\n",
        "\n",
        "# Identifying outliers\n",
        "outliers = data[(data['Sourcing Cost'] < lower_bound) | (data['Sourcing Cost'] > upper_bound)]\n",
        "\n",
        "print(\"Outliers:\")\n",
        "print(outliers)\n"
      ],
      "metadata": {
        "execution": {
          "iopub.status.busy": "2024-05-11T17:32:51.830221Z",
          "iopub.execute_input": "2024-05-11T17:32:51.830620Z",
          "iopub.status.idle": "2024-05-11T17:32:51.870104Z",
          "shell.execute_reply.started": "2024-05-11T17:32:51.830590Z",
          "shell.execute_reply": "2024-05-11T17:32:51.868964Z"
        },
        "trusted": true,
        "id": "6-pB8KSjK-zV"
      },
      "execution_count": null,
      "outputs": []
    },
    {
      "cell_type": "code",
      "source": [
        "# Vizilising OUTLIERS:\n",
        "start_date = pd.to_datetime('2020-06-01')\n",
        "end_date = pd.to_datetime('2021-05-01')\n",
        "data_subset = data[(data['Month of Sourcing'] >= start_date) & (data['Month of Sourcing'] <= end_date)]\n",
        "\n",
        "downsample_factor = 5\n",
        "data_downsampled = data_subset.iloc[::downsample_factor]\n",
        "\n",
        "plt.figure(figsize=(12, 6))\n",
        "plt.plot(data_downsampled['Month of Sourcing'], data_downsampled['Sourcing Cost'], color='blue', label='Sourcing Cost')\n",
        "\n",
        "plt.scatter(outliers['Month of Sourcing'], outliers['Sourcing Cost'], color='red', label='Outliers')\n",
        "\n",
        "plt.title('Sourcing Cost Over Time (Last 12 Months, Downsampled)')\n",
        "plt.xlabel('Month of Sourcing')\n",
        "plt.ylabel('Sourcing Cost')\n",
        "plt.legend()\n",
        "plt.grid(True)\n",
        "plt.xticks(rotation=45)\n",
        "plt.tight_layout()\n",
        "plt.show()"
      ],
      "metadata": {
        "execution": {
          "iopub.status.busy": "2024-05-11T17:32:53.793586Z",
          "iopub.execute_input": "2024-05-11T17:32:53.794225Z",
          "iopub.status.idle": "2024-05-11T17:33:00.839719Z",
          "shell.execute_reply.started": "2024-05-11T17:32:53.794195Z",
          "shell.execute_reply": "2024-05-11T17:33:00.838626Z"
        },
        "trusted": true,
        "id": "75MI5rZlK-zW"
      },
      "execution_count": null,
      "outputs": []
    },
    {
      "cell_type": "code",
      "source": [
        "import pandas as pd\n",
        "import matplotlib.pyplot as plt\n",
        "\n",
        "\n",
        "window_size = 3\n",
        "\n",
        "# Calculating the moving average\n",
        "moving_avg = data_sorted['Sourcing Cost'].rolling(window=window_size, center=True).mean()\n",
        "\n",
        "# Ploting the original time series data and the moving average\n",
        "plt.figure(figsize=(12, 6))\n",
        "plt.plot(data.index, data['Sourcing Cost'], color='blue', label='Original Data')\n",
        "plt.plot(moving_avg.index, moving_avg, color='red', label=f'Moving Average (Window Size={window_size})')\n",
        "plt.title('Time Series Data with Moving Average')\n",
        "plt.xlabel('Date')\n",
        "plt.ylabel('Sourcing Cost')\n",
        "plt.legend()\n",
        "plt.grid(True)\n",
        "plt.xticks(rotation=45)\n",
        "plt.tight_layout()\n",
        "plt.show()\n"
      ],
      "metadata": {
        "execution": {
          "iopub.status.busy": "2024-05-11T17:33:22.135579Z",
          "iopub.execute_input": "2024-05-11T17:33:22.135963Z",
          "iopub.status.idle": "2024-05-11T17:33:39.398918Z",
          "shell.execute_reply.started": "2024-05-11T17:33:22.135932Z",
          "shell.execute_reply": "2024-05-11T17:33:39.397698Z"
        },
        "trusted": true,
        "id": "Edb0aCP6K-zW"
      },
      "execution_count": null,
      "outputs": []
    },
    {
      "cell_type": "markdown",
      "source": [
        "Removing Outliers:\n",
        "Outliers can skew model parameters, distort statistical metrics, and lower predicted accuracy, it is imperative to remove them from datasets. Outliers are removed to improve data quality and interpretability, which enables more stable and robust models and aligns studies with assumptions. By doing this, overfitting is lessened, model performance is improved, and relevant dataset comparisons are encouraged. Furthermore, outlier removal helps uncover problems with data quality and comprehend underlying patterns, which eventually results in more precise and trustworthy findings."
      ],
      "metadata": {
        "id": "hmHs9AFYK-zW"
      }
    },
    {
      "cell_type": "code",
      "source": [
        "# Removing Outliers from data\n",
        "def remove_outliers_iqr(data):\n",
        "    Q1 = data.quantile(0.25)\n",
        "    Q3 = data.quantile(0.75)\n",
        "    IQR = Q3 - Q1\n",
        "    lower_bound = Q1 - 1.5 * IQR\n",
        "    upper_bound = Q3 + 1.5 * IQR\n",
        "    data_cleaned = data[(data >= lower_bound) & (data <= upper_bound)]\n",
        "    return data_cleaned\n",
        "\n",
        "# Removing outliers from the 'Sourcing Cost' column using IQR\n",
        "data_sorted['Sourcing Cost'] = remove_outliers_iqr(data_sorted['Sourcing Cost'])\n",
        "\n",
        "plt.figure(figsize=(12, 6))\n",
        "plt.plot(data_sorted['Month of Sourcing'], data_sorted['Sourcing Cost'], color='blue', label='Sourcing Cost (Cleaned)')\n",
        "plt.title('Sourcing Cost Over Time (Outliers Removed)')\n",
        "plt.xlabel('Month of Sourcing')\n",
        "plt.ylabel('Sourcing Cost')\n",
        "plt.legend()\n",
        "plt.grid(True)\n",
        "plt.xticks(rotation=45)\n",
        "plt.tight_layout()\n",
        "plt.show()\n"
      ],
      "metadata": {
        "execution": {
          "iopub.status.busy": "2024-05-11T17:48:29.990251Z",
          "iopub.execute_input": "2024-05-11T17:48:29.991438Z",
          "iopub.status.idle": "2024-05-11T17:48:31.113567Z",
          "shell.execute_reply.started": "2024-05-11T17:48:29.991398Z",
          "shell.execute_reply": "2024-05-11T17:48:31.112599Z"
        },
        "trusted": true,
        "id": "mvWe1XxdK-zW"
      },
      "execution_count": null,
      "outputs": []
    },
    {
      "cell_type": "code",
      "source": [
        "data_sorted.info()"
      ],
      "metadata": {
        "execution": {
          "iopub.status.busy": "2024-05-11T17:49:25.902352Z",
          "iopub.execute_input": "2024-05-11T17:49:25.903175Z",
          "iopub.status.idle": "2024-05-11T17:49:26.083826Z",
          "shell.execute_reply.started": "2024-05-11T17:49:25.903143Z",
          "shell.execute_reply": "2024-05-11T17:49:26.082815Z"
        },
        "trusted": true,
        "id": "9LsFyHZmK-zW"
      },
      "execution_count": null,
      "outputs": []
    },
    {
      "cell_type": "code",
      "source": [
        "data_sorted.isnull().sum()"
      ],
      "metadata": {
        "execution": {
          "iopub.status.busy": "2024-05-11T17:49:49.691158Z",
          "iopub.execute_input": "2024-05-11T17:49:49.692150Z",
          "iopub.status.idle": "2024-05-11T17:49:49.853553Z",
          "shell.execute_reply.started": "2024-05-11T17:49:49.692112Z",
          "shell.execute_reply": "2024-05-11T17:49:49.852583Z"
        },
        "trusted": true,
        "id": "3I1ufI7vK-zW"
      },
      "execution_count": null,
      "outputs": []
    },
    {
      "cell_type": "code",
      "source": [
        "data_sorted = data_sorted.dropna(subset=['Sourcing Cost'])"
      ],
      "metadata": {
        "execution": {
          "iopub.status.busy": "2024-05-11T17:52:21.310149Z",
          "iopub.execute_input": "2024-05-11T17:52:21.310579Z",
          "iopub.status.idle": "2024-05-11T17:52:21.384237Z",
          "shell.execute_reply.started": "2024-05-11T17:52:21.310547Z",
          "shell.execute_reply": "2024-05-11T17:52:21.383077Z"
        },
        "trusted": true,
        "id": "gLWmwKtAK-zW"
      },
      "execution_count": null,
      "outputs": []
    },
    {
      "cell_type": "code",
      "source": [
        "data_sorted.isnull().sum()"
      ],
      "metadata": {
        "execution": {
          "iopub.status.busy": "2024-05-11T17:52:27.941809Z",
          "iopub.execute_input": "2024-05-11T17:52:27.942169Z",
          "iopub.status.idle": "2024-05-11T17:52:28.104726Z",
          "shell.execute_reply.started": "2024-05-11T17:52:27.942142Z",
          "shell.execute_reply": "2024-05-11T17:52:28.103582Z"
        },
        "trusted": true,
        "id": "nviQs2dAK-zW"
      },
      "execution_count": null,
      "outputs": []
    },
    {
      "cell_type": "markdown",
      "source": [
        "One-hot encoding converts categorical variables into a numerical format that regression algorithms can understand, it is crucial for using regression models with categorical data. Regression models can accurately capture the relationships between variables and maintain the integrity of the categorical data thanks to one-hot encoding, which represents categorical variables as binary vectors where each category becomes a separate binary feature."
      ],
      "metadata": {
        "id": "yjsUUeQJK-zW"
      }
    },
    {
      "cell_type": "code",
      "source": [
        "#Applying One-Hot Encoding:\n",
        "# Label encoding:\n",
        "from sklearn.preprocessing import LabelEncoder\n",
        "\n",
        "label_encoder = LabelEncoder()\n",
        "\n",
        "data_encoded = data_sorted.copy()\n",
        "columns_to_encode = ['ProductType', 'Manufacturer', 'Area Code', 'Sourcing Channel', 'Product Size', 'Product Type']\n",
        "\n",
        "for col in columns_to_encode:\n",
        "    data_encoded[col] = label_encoder.fit_transform(data_sorted[col])\n",
        "\n",
        "print(data_encoded.head())\n"
      ],
      "metadata": {
        "execution": {
          "iopub.status.busy": "2024-05-11T18:18:03.052564Z",
          "iopub.execute_input": "2024-05-11T18:18:03.053004Z",
          "iopub.status.idle": "2024-05-11T18:18:03.853341Z",
          "shell.execute_reply.started": "2024-05-11T18:18:03.052975Z",
          "shell.execute_reply": "2024-05-11T18:18:03.852178Z"
        },
        "trusted": true,
        "id": "THWlYWlJK-zW"
      },
      "execution_count": null,
      "outputs": []
    },
    {
      "cell_type": "code",
      "source": [
        "data_encoded.head()"
      ],
      "metadata": {
        "execution": {
          "iopub.status.busy": "2024-05-11T18:18:19.289775Z",
          "iopub.execute_input": "2024-05-11T18:18:19.290148Z",
          "iopub.status.idle": "2024-05-11T18:18:19.303785Z",
          "shell.execute_reply.started": "2024-05-11T18:18:19.290121Z",
          "shell.execute_reply": "2024-05-11T18:18:19.302790Z"
        },
        "trusted": true,
        "id": "gGJUHXmVK-zW"
      },
      "execution_count": null,
      "outputs": []
    },
    {
      "cell_type": "markdown",
      "source": [
        "# PERFORMING EDA"
      ],
      "metadata": {
        "id": "FG6WLa_MK-zW"
      }
    },
    {
      "cell_type": "markdown",
      "source": [
        "**Plot1**"
      ],
      "metadata": {
        "id": "I2rYEZPIK-zX"
      }
    },
    {
      "cell_type": "markdown",
      "source": [
        "**The plot depicts the trend, seasonality, and potential irregular patterns of the 'Sourcing Cost' over time. It offers a comprehensive view of how the sourcing cost has evolved, allowing analysts to identify long-term trends, recurring patterns, and anomalies in the data. Additionally, the plot provides insights into the impact of external factors, such as changes in market conditions or business strategies, on sourcing costs over time. If time series plots for other variables like 'ProductType' or 'Manufacturer' are included, they can offer further context and reveal potential correlations or dependencies between these variables and the sourcing cost, aiding in deeper exploratory analysis and informed decision-making.**"
      ],
      "metadata": {
        "id": "cPNl8cRsK-zX"
      }
    },
    {
      "cell_type": "code",
      "source": [
        "import plotly.graph_objects as go\n",
        "\n",
        "fig = go.Figure()\n",
        "fig.add_trace(go.Scatter(x=data_encoded['Month of Sourcing'], y=data_encoded['Sourcing Cost'], mode='lines', name='Sourcing Cost', line=dict(color='blue')))\n",
        "fig.update_layout(title='Sourcing Cost over Time', xaxis_title='Month of Sourcing', yaxis_title='Sourcing Cost')\n",
        "fig.show()\n",
        "\n",
        "fig = go.Figure()\n",
        "fig.add_trace(go.Scatter(x=data_encoded['Month of Sourcing'], y=data_encoded['ProductType'], mode='lines', name='ProductType', line=dict(color='red')))\n",
        "fig.add_trace(go.Scatter(x=data_encoded['Month of Sourcing'], y=data_encoded['Manufacturer'], mode='lines', name='Manufacturer', line=dict(color='green')))\n",
        "fig.update_layout(title='Time Series for ProductType and Manufacturer', xaxis_title='Month of Sourcing', yaxis_title='Encoded Value')\n",
        "fig.show()\n"
      ],
      "metadata": {
        "execution": {
          "iopub.status.busy": "2024-05-11T18:23:52.273882Z",
          "iopub.execute_input": "2024-05-11T18:23:52.274303Z",
          "iopub.status.idle": "2024-05-11T18:24:13.705854Z",
          "shell.execute_reply.started": "2024-05-11T18:23:52.274272Z",
          "shell.execute_reply": "2024-05-11T18:24:13.704768Z"
        },
        "trusted": true,
        "id": "cNrc3SMxK-zX"
      },
      "execution_count": null,
      "outputs": []
    },
    {
      "cell_type": "markdown",
      "source": [
        "**PLOT-2**"
      ],
      "metadata": {
        "id": "_E1xoq2vK-zX"
      }
    },
    {
      "cell_type": "markdown",
      "source": [
        "**This plot illustrates the decomposition of the time series into its trend, seasonal, and residual components. The \"Trend\" component represents the long-term movement of the data, capturing any overall increase or decrease over time. The \"Seasonal\" component displays repetitive patterns that occur at regular intervals, such as monthly or yearly cycles. Finally, the \"Residual\" component represents the remaining variation in the data after removing the trend and seasonal components, highlighting any irregularities or noise. Analyzing these components can provide insights into the underlying patterns and dynamics present in the time series data.**"
      ],
      "metadata": {
        "id": "Js0rGurZK-zX"
      }
    },
    {
      "cell_type": "code",
      "source": [
        "import plotly.graph_objects as go\n",
        "from statsmodels.tsa.seasonal import seasonal_decompose\n",
        "\n",
        "#seasonal decomposition\n",
        "decomposition = seasonal_decompose(data_encoded['Sourcing Cost'], model='additive', period=12)  # Assuming a seasonal period of 12 months\n",
        "# Original time series\n",
        "fig = go.Figure()\n",
        "fig.add_trace(go.Scatter(x=data_encoded['Month of Sourcing'], y=data_encoded['Sourcing Cost'], mode='lines', name='Original'))\n",
        "fig.update_layout(title='Original Time Series', xaxis_title='Month of Sourcing', yaxis_title='Sourcing Cost', xaxis=dict(tickangle=45))\n",
        "fig.show()\n",
        "\n",
        "# Trend component\n",
        "fig = go.Figure()\n",
        "fig.add_trace(go.Scatter(x=data_encoded['Month of Sourcing'], y=decomposition.trend, mode='lines', name='Trend'))\n",
        "fig.update_layout(title='Trend Component', xaxis_title='Month of Sourcing', yaxis_title='Trend', xaxis=dict(tickangle=45))\n",
        "fig.show()\n",
        "\n",
        "# Seasonal component\n",
        "fig = go.Figure()\n",
        "fig.add_trace(go.Scatter(x=data_encoded['Month of Sourcing'], y=decomposition.seasonal, mode='lines', name='Seasonal'))\n",
        "fig.update_layout(title='Seasonal Component', xaxis_title='Month of Sourcing', yaxis_title='Seasonal', xaxis=dict(tickangle=45))\n",
        "fig.show()\n",
        "\n",
        "# Residual component\n",
        "fig = go.Figure()\n",
        "fig.add_trace(go.Scatter(x=data_encoded['Month of Sourcing'], y=decomposition.resid, mode='lines', name='Residual'))\n",
        "fig.update_layout(title='Residual Component', xaxis_title='Month of Sourcing', yaxis_title='Residual', xaxis=dict(tickangle=45))\n",
        "fig.show()\n"
      ],
      "metadata": {
        "execution": {
          "iopub.status.busy": "2024-05-11T18:28:05.498530Z",
          "iopub.execute_input": "2024-05-11T18:28:05.498990Z",
          "iopub.status.idle": "2024-05-11T18:28:34.031011Z",
          "shell.execute_reply.started": "2024-05-11T18:28:05.498960Z",
          "shell.execute_reply": "2024-05-11T18:28:34.029183Z"
        },
        "trusted": true,
        "id": "N5ixurweK-zX"
      },
      "execution_count": null,
      "outputs": []
    },
    {
      "cell_type": "markdown",
      "source": [
        "**Corelation Plot**"
      ],
      "metadata": {
        "id": "AcSXN0m-K-zX"
      }
    },
    {
      "cell_type": "code",
      "source": [
        "import seaborn as sns\n",
        "correlation_matrix = data_encoded.corr()\n",
        "plt.figure(figsize=(10, 8))\n",
        "sns.heatmap(correlation_matrix, annot=True, cmap='coolwarm', fmt=\".2f\", linewidths=0.5)\n",
        "plt.title('Correlation Matrix')\n",
        "plt.show()\n"
      ],
      "metadata": {
        "execution": {
          "iopub.status.busy": "2024-05-11T18:37:51.860815Z",
          "iopub.execute_input": "2024-05-11T18:37:51.861522Z",
          "iopub.status.idle": "2024-05-11T18:37:52.479969Z",
          "shell.execute_reply.started": "2024-05-11T18:37:51.861488Z",
          "shell.execute_reply": "2024-05-11T18:37:52.478816Z"
        },
        "trusted": true,
        "id": "ebEbV0BfK-zX"
      },
      "execution_count": null,
      "outputs": []
    },
    {
      "cell_type": "markdown",
      "source": [
        "# APPLYING ML MODELS"
      ],
      "metadata": {
        "id": "1n3A_KjvK-za"
      }
    },
    {
      "cell_type": "markdown",
      "source": [
        "**In our analysis, we plan to employ various regression models, including polynomial regression, decision tree regression, random forest regression, and ensemble techniques such as bagging and boosting. Each of these algorithms serves a distinct purpose in regression analysis. Polynomial regression allows us to capture nonlinear relationships between predictors and the target variable, enhancing the model's flexibility in fitting complex data patterns. Decision tree regression partitions the feature space into regions, making it suitable for capturing nonlinear relationships and interactions between predictors. Random forest regression aggregates the predictions of multiple decision trees, providing robustness to overfitting and improving prediction accuracy. Ensemble techniques like bagging and boosting further enhance model performance by combining the strengths of multiple base learners, leading to more accurate and stable predictions. By leveraging these diverse algorithms, we aim to build comprehensive regression models that effectively capture the underlying patterns and relationships present in our dataset, ultimately enabling us to make accurate predictions and derive valuable insights.**"
      ],
      "metadata": {
        "id": "zQSVAap6K-zb"
      }
    },
    {
      "cell_type": "markdown",
      "source": [
        "**APPLYING POLONOMIAL REGRESSION**"
      ],
      "metadata": {
        "id": "VUba0bUkK-zb"
      }
    },
    {
      "cell_type": "markdown",
      "source": [
        "->Spliting data in train-test"
      ],
      "metadata": {
        "id": "Pk7Lm_pgK-zb"
      }
    },
    {
      "cell_type": "code",
      "source": [
        "import pandas as pd\n",
        "from sklearn.metrics import mean_squared_error\n",
        "from math import sqrt\n",
        "\n",
        "train_size = int(len(data_encoded) * 0.8)  # 80% train, 20% test\n",
        "train_data, test_data = data_encoded.iloc[:train_size], data_encoded.iloc[train_size:]"
      ],
      "metadata": {
        "execution": {
          "iopub.status.busy": "2024-05-11T18:43:45.399526Z",
          "iopub.execute_input": "2024-05-11T18:43:45.399935Z",
          "iopub.status.idle": "2024-05-11T18:43:45.408362Z",
          "shell.execute_reply.started": "2024-05-11T18:43:45.399905Z",
          "shell.execute_reply": "2024-05-11T18:43:45.407435Z"
        },
        "trusted": true,
        "id": "5OJK66CKK-zb"
      },
      "execution_count": null,
      "outputs": []
    },
    {
      "cell_type": "code",
      "source": [
        "from sklearn.preprocessing import PolynomialFeatures\n",
        "from sklearn.linear_model import LinearRegression\n",
        "from sklearn.metrics import mean_squared_error, r2_score\n",
        "import numpy as np\n",
        "\n",
        "\n",
        "X_train = train_data.drop(columns=['Month of Sourcing', 'Sourcing Cost'])\n",
        "y_train = train_data['Sourcing Cost']\n",
        "\n",
        "X_test = test_data.drop(columns=['Month of Sourcing', 'Sourcing Cost'])\n",
        "y_test = test_data['Sourcing Cost']\n",
        "\n",
        "degree = 2\n",
        "\n",
        "\n",
        "poly_features = PolynomialFeatures(degree=degree)\n",
        "X_train_poly = poly_features.fit_transform(X_train)\n",
        "X_test_poly = poly_features.transform(X_test)\n",
        "\n",
        "poly_reg_model = LinearRegression()\n",
        "poly_reg_model.fit(X_train_poly, y_train)\n",
        "\n",
        "y_pred = poly_reg_model.predict(X_test_poly)\n",
        "\n",
        "mse = mean_squared_error(y_test, y_pred)\n",
        "rmse = np.sqrt(mse)\n",
        "r2 = r2_score(y_test, y_pred)\n",
        "\n",
        "print(\"Mean Squared Error (MSE):\", mse)\n",
        "print(\"Root Mean Squared Error (RMSE):\", rmse)\n",
        "print(\"R-squared (R2) Score:\", r2)\n"
      ],
      "metadata": {
        "execution": {
          "iopub.status.busy": "2024-05-11T18:43:50.479078Z",
          "iopub.execute_input": "2024-05-11T18:43:50.480051Z",
          "iopub.status.idle": "2024-05-11T18:43:51.548878Z",
          "shell.execute_reply.started": "2024-05-11T18:43:50.480014Z",
          "shell.execute_reply": "2024-05-11T18:43:51.547657Z"
        },
        "trusted": true,
        "id": "b7iQKSrYK-zb"
      },
      "execution_count": null,
      "outputs": []
    },
    {
      "cell_type": "markdown",
      "source": [
        "**APPLYING DECISION TREE REGRESOR**"
      ],
      "metadata": {
        "id": "-ce2bo-KK-zb"
      }
    },
    {
      "cell_type": "code",
      "source": [
        "from sklearn.tree import DecisionTreeRegressor\n",
        "from sklearn.metrics import mean_squared_error, r2_score\n",
        "\n",
        "dt_regressor = DecisionTreeRegressor()\n",
        "\n",
        "dt_regressor.fit(X_train, y_train)\n",
        "\n",
        "dt_predictions = dt_regressor.predict(X_test)\n",
        "\n",
        "dt_mse = mean_squared_error(y_test, dt_predictions)\n",
        "dt_rmse = np.sqrt(dt_mse)\n",
        "dt_r2 = r2_score(y_test, dt_predictions)\n",
        "\n",
        "print(\"Mean Squared Error (MSE):\", dt_mse)\n",
        "print(\"Root Mean Squared Error (RMSE):\", dt_rmse)\n",
        "print(\"R-squared (R2) Score:\", dt_r2)\n"
      ],
      "metadata": {
        "execution": {
          "iopub.status.busy": "2024-05-11T18:48:35.277581Z",
          "iopub.execute_input": "2024-05-11T18:48:35.277997Z",
          "iopub.status.idle": "2024-05-11T18:48:35.600340Z",
          "shell.execute_reply.started": "2024-05-11T18:48:35.277966Z",
          "shell.execute_reply": "2024-05-11T18:48:35.599306Z"
        },
        "trusted": true,
        "id": "_nnmVSpKK-zb"
      },
      "execution_count": null,
      "outputs": []
    },
    {
      "cell_type": "markdown",
      "source": [
        "**APPLYING RANDOM FOREST REGRESSOR**"
      ],
      "metadata": {
        "id": "uWPCe0qPK-zb"
      }
    },
    {
      "cell_type": "code",
      "source": [
        "from sklearn.ensemble import RandomForestRegressor\n",
        "from sklearn.metrics import mean_squared_error, r2_score\n",
        "from math import sqrt\n",
        "\n",
        "rf_model = RandomForestRegressor(n_estimators=250, random_state=42)  # You can adjust n_estimators as needed\n",
        "\n",
        "# Training the model\n",
        "rf_model.fit(X_train, y_train)\n",
        "\n",
        "=rf_predictions = rf_model.predict(X_test)\n",
        "\n",
        "=rf_mse = mean_squared_error(y_test, rf_predictions)\n",
        "rf_rmse = sqrt(rf_mse)\n",
        "\n",
        "rf_r2 = r2_score(y_test, rf_predictions)\n",
        "\n",
        "print(\"Mean Squared Error (MSE):\", rf_mse)\n",
        "print(\"Root Mean Squared Error (RMSE):\", rf_rmse)\n",
        "print(\"R-squared (R2) Score:\", rf_r2)\n"
      ],
      "metadata": {
        "execution": {
          "iopub.status.busy": "2024-05-11T18:51:37.032267Z",
          "iopub.execute_input": "2024-05-11T18:51:37.033214Z",
          "iopub.status.idle": "2024-05-11T18:52:22.235009Z",
          "shell.execute_reply.started": "2024-05-11T18:51:37.033181Z",
          "shell.execute_reply": "2024-05-11T18:52:22.233892Z"
        },
        "trusted": true,
        "id": "GJGVFneeK-zb"
      },
      "execution_count": null,
      "outputs": []
    },
    {
      "cell_type": "markdown",
      "source": [
        "**Ensemble Techiniques**"
      ],
      "metadata": {
        "id": "mj421aoRK-zb"
      }
    },
    {
      "cell_type": "markdown",
      "source": [
        "**APPLYING XG-BOOST**"
      ],
      "metadata": {
        "id": "Brp_XwPmK-zb"
      }
    },
    {
      "cell_type": "code",
      "source": [
        "import xgboost as xgb\n",
        "from sklearn.metrics import mean_squared_error, r2_score\n",
        "from sklearn.model_selection import train_test_split\n",
        "\n",
        "X = data_encoded.drop(columns=['Month of Sourcing', 'Sourcing Cost'])  # Exclude target and date columns\n",
        "y = data_encoded['Sourcing Cost']\n",
        "X_train, X_test, y_train, y_test = train_test_split(X, y, test_size=0.2, random_state=42)\n",
        "\n",
        "# Defining the XGBoost model\n",
        "xgb_model = xgb.XGBRegressor(objective ='reg:squarederror', random_state=42)\n",
        "\n",
        "xgb_model.fit(X_train, y_train)\n",
        "\n",
        "y_pred = xgb_model.predict(X_test)\n",
        "\n",
        "mse = mean_squared_error(y_test, y_pred)\n",
        "rmse = mean_squared_error(y_test, y_pred, squared=False)\n",
        "r2 = r2_score(y_test, y_pred)\n",
        "\n",
        "print(\"Mean Squared Error (MSE):\", mse)\n",
        "print(\"Root Mean Squared Error (RMSE):\", rmse)\n",
        "print(\"R-squared (R2) Score:\", r2)\n"
      ],
      "metadata": {
        "execution": {
          "iopub.status.busy": "2024-05-11T18:53:41.033256Z",
          "iopub.execute_input": "2024-05-11T18:53:41.033705Z",
          "iopub.status.idle": "2024-05-11T18:53:43.141093Z",
          "shell.execute_reply.started": "2024-05-11T18:53:41.033670Z",
          "shell.execute_reply": "2024-05-11T18:53:43.139932Z"
        },
        "trusted": true,
        "id": "_hTFi3GFK-zc"
      },
      "execution_count": null,
      "outputs": []
    },
    {
      "cell_type": "markdown",
      "source": [
        "**APPLYING AdaBoost**"
      ],
      "metadata": {
        "id": "bG5SwOxFK-zc"
      }
    },
    {
      "cell_type": "code",
      "source": [
        "from sklearn.ensemble import AdaBoostRegressor\n",
        "from sklearn.metrics import mean_squared_error, r2_score\n",
        "from sklearn.model_selection import train_test_split\n",
        "\n",
        "X = data_encoded.drop(columns=['Month of Sourcing', 'Sourcing Cost'])  # Exclude target and date columns\n",
        "y = data_encoded['Sourcing Cost']\n",
        "X_train, X_test, y_train, y_test = train_test_split(X, y, test_size=0.2, random_state=42)\n",
        "\n",
        "adaboost_model = AdaBoostRegressor(random_state=42)\n",
        "\n",
        "adaboost_model.fit(X_train, y_train)\n",
        "\n",
        "y_pred = adaboost_model.predict(X_test)\n",
        "\n",
        "mse = mean_squared_error(y_test, y_pred)\n",
        "rmse = mean_squared_error(y_test, y_pred, squared=False)\n",
        "r2 = r2_score(y_test, y_pred)\n",
        "\n",
        "print(\"Mean Squared Error (MSE):\", mse)\n",
        "print(\"Root Mean Squared Error (RMSE):\", rmse)\n",
        "print(\"R-squared (R2) Score:\", r2)\n"
      ],
      "metadata": {
        "execution": {
          "iopub.status.busy": "2024-05-11T18:54:23.131344Z",
          "iopub.execute_input": "2024-05-11T18:54:23.131777Z",
          "iopub.status.idle": "2024-05-11T18:54:32.931850Z",
          "shell.execute_reply.started": "2024-05-11T18:54:23.131746Z",
          "shell.execute_reply": "2024-05-11T18:54:32.930701Z"
        },
        "trusted": true,
        "id": "YicuRsRhK-zc"
      },
      "execution_count": null,
      "outputs": []
    },
    {
      "cell_type": "markdown",
      "source": [
        "**APPLYING VOTING**"
      ],
      "metadata": {
        "id": "d1H-0XS9K-zc"
      }
    },
    {
      "cell_type": "code",
      "source": [
        "from sklearn.ensemble import VotingRegressor\n",
        "from sklearn.linear_model import LinearRegression\n",
        "from sklearn.ensemble import RandomForestRegressor\n",
        "from sklearn.tree import DecisionTreeRegressor\n",
        "from sklearn.metrics import mean_squared_error, r2_score\n",
        "from sklearn.model_selection import train_test_split\n",
        "\n",
        "X = data_encoded.drop(columns=['Month of Sourcing', 'Sourcing Cost'])  # Exclude target and date columns\n",
        "y = data_encoded['Sourcing Cost']\n",
        "X_train, X_test, y_train, y_test = train_test_split(X, y, test_size=0.2, random_state=42)\n",
        "\n",
        "linear_model = LinearRegression()\n",
        "random_forest_model = RandomForestRegressor(random_state=42)\n",
        "decision_tree_model = DecisionTreeRegressor(random_state=42)\n",
        "\n",
        "voting_model = VotingRegressor(estimators=[\n",
        "    ('linear', linear_model),\n",
        "    ('random_forest', random_forest_model),\n",
        "    ('decision_tree', decision_tree_model)\n",
        "])\n",
        "\n",
        "voting_model.fit(X_train, y_train)\n",
        "\n",
        "y_pred = voting_model.predict(X_test)\n",
        "\n",
        "mse = mean_squared_error(y_test, y_pred)\n",
        "rmse = mean_squared_error(y_test, y_pred, squared=False)\n",
        "r2 = r2_score(y_test, y_pred)\n",
        "\n",
        "print(\"Mean Squared Error (MSE):\", mse)\n",
        "print(\"Root Mean Squared Error (RMSE):\", rmse)\n",
        "print(\"R-squared (R2) Score:\", r2)\n"
      ],
      "metadata": {
        "execution": {
          "iopub.status.busy": "2024-05-11T18:55:28.989062Z",
          "iopub.execute_input": "2024-05-11T18:55:28.989480Z",
          "iopub.status.idle": "2024-05-11T18:55:47.532504Z",
          "shell.execute_reply.started": "2024-05-11T18:55:28.989448Z",
          "shell.execute_reply": "2024-05-11T18:55:47.531495Z"
        },
        "trusted": true,
        "id": "d49Ajx54K-zc"
      },
      "execution_count": null,
      "outputs": []
    },
    {
      "cell_type": "markdown",
      "source": [
        "**APPLYING GradientBoostingRegressor**"
      ],
      "metadata": {
        "id": "Ff8z7AEJK-zc"
      }
    },
    {
      "cell_type": "code",
      "source": [
        "from sklearn.ensemble import GradientBoostingRegressor\n",
        "from sklearn.metrics import mean_squared_error, r2_score\n",
        "from sklearn.model_selection import train_test_split\n",
        "\n",
        "X = data_encoded.drop(columns=['Month of Sourcing', 'Sourcing Cost'])  # Exclude target and date columns\n",
        "y = data_encoded['Sourcing Cost']\n",
        "X_train, X_test, y_train, y_test = train_test_split(X, y, test_size=0.2, random_state=42)\n",
        "\n",
        "gbrt_model = GradientBoostingRegressor(random_state=42)\n",
        "gbrt_model.fit(X_train, y_train)\n",
        "\n",
        "y_pred = gbrt_model.predict(X_test)\n",
        "\n",
        "mse = mean_squared_error(y_test, y_pred)\n",
        "rmse = mean_squared_error(y_test, y_pred, squared=False)\n",
        "r2 = r2_score(y_test, y_pred)\n",
        "\n",
        "print(\"Mean Squared Error (MSE):\", mse)\n",
        "print(\"Root Mean Squared Error (RMSE):\", rmse)\n",
        "print(\"R-squared (R2) Score:\", r2)\n"
      ],
      "metadata": {
        "execution": {
          "iopub.status.busy": "2024-05-11T18:58:42.538179Z",
          "iopub.execute_input": "2024-05-11T18:58:42.538611Z",
          "iopub.status.idle": "2024-05-11T18:58:59.170198Z",
          "shell.execute_reply.started": "2024-05-11T18:58:42.538578Z",
          "shell.execute_reply": "2024-05-11T18:58:59.169176Z"
        },
        "trusted": true,
        "id": "cQdJUngTK-zc"
      },
      "execution_count": null,
      "outputs": []
    },
    {
      "cell_type": "markdown",
      "source": [
        "## RESULTS"
      ],
      "metadata": {
        "id": "ebAOVN9JK-zd"
      }
    },
    {
      "cell_type": "markdown",
      "source": [
        "**Based on the results obtained from applying various regression algorithms to our dataset, we can draw several conclusions:**"
      ],
      "metadata": {
        "id": "4LYuD0ToK-zd"
      }
    },
    {
      "cell_type": "markdown",
      "source": [
        "**Polynomial Regression**:\n",
        "\n",
        "Mean Squared Error (MSE): 1508.63\n",
        "Root Mean Squared Error (RMSE): 38.84\n",
        "R-squared (R2) Score: 0.529\n",
        "Polynomial regression yielded relatively high MSE and RMSE values, indicating a significant amount of error in predictions. The R-squared score of 0.529 suggests that the model explains approximately 52.9% of the variance in the target variable.\n",
        "\n",
        "**Decision Tree Regressor**:\n",
        "\n",
        "MSE: 516.84\n",
        "RMSE: 22.73\n",
        "R2 Score: 0.839\n",
        "The decision tree regressor performed better than polynomial regression, with lower MSE and RMSE values. The R-squared score of 0.839 indicates that the model explains approximately 83.9% of the variance in the target variable.\n",
        "\n",
        "\n",
        "**Random Forest Regressor**:\n",
        "\n",
        "MSE: 517.19\n",
        "RMSE: 22.74\n",
        "R2 Score: 0.839\n",
        "Random forest regression produced similar results to the decision tree regressor, with slightly higher MSE and RMSE values but comparable R-squared score.\n",
        "\n",
        "**XG-Boost**:\n",
        "\n",
        "MSE: 527.63\n",
        "RMSE: 22.97\n",
        "R2 Score: 0.831\n",
        "XG-Boost performed well, with a relatively low MSE and RMSE values and a high R-squared score of 0.831, indicating that approximately 83.1% of the variance in the target variable is explained by the model.\n",
        "\n",
        "**AdaBoost**:\n",
        "\n",
        "MSE: 1645.99\n",
        "RMSE: 40.57\n",
        "R2 Score: 0.472\n",
        "AdaBoost yielded the highest MSE and RMSE values among all models, indicating significant prediction errors. The R-squared score of 0.472 suggests that the model explains approximately 47.2% of the variance in the target variable.\n",
        "\n",
        "**Voting (Ensemble of Various Models)**:\n",
        "\n",
        "MSE: 703.19\n",
        "RMSE: 26.52\n",
        "R2 Score: 0.774\n",
        "The voting ensemble model performed well, with lower MSE and RMSE values compared to polynomial regression and AdaBoost. The R-squared score of 0.774 indicates a good fit of the ensemble model to the data.\n",
        "\n",
        "\n",
        "**Gradient Boosting Regressor**:\n",
        "\n",
        "MSE: 712.50\n",
        "RMSE: 26.69\n",
        "R2 Score: 0.771\n",
        "Similar to the voting ensemble, the gradient boosting regressor achieved low MSE and RMSE values and a high R-squared score of 0.771, indicating a strong fit to the data."
      ],
      "metadata": {
        "id": "KmBJQ5iNK-zd"
      }
    },
    {
      "cell_type": "markdown",
      "source": [
        "****"
      ],
      "metadata": {
        "id": "juTxQTJ0K-zd"
      }
    },
    {
      "cell_type": "markdown",
      "source": [
        "**In conclusion, among the models tested, the decision tree regressor, random forest regressor, XG-Boost, and the ensemble models (voting and gradient boosting) demonstrated superior performance in terms of lower prediction errors (MSE and RMSE) and higher R-squared scores, indicating better explanatory power. These models can be considered suitable candidates for predicting the target variable in our dataset.**"
      ],
      "metadata": {
        "id": "Jk0veyP6K-zd"
      }
    },
    {
      "cell_type": "markdown",
      "source": [
        "**APPLYING THE REGRESSION MODEL ON THE TEST DATASET**"
      ],
      "metadata": {
        "id": "9vwGEwB6K-zd"
      }
    },
    {
      "cell_type": "markdown",
      "source": [
        "LOADING DATASET AND PRE-PROCESSING IT"
      ],
      "metadata": {
        "id": "4WG8rOxVK-zd"
      }
    },
    {
      "cell_type": "code",
      "source": [
        "datatest= pd.read_csv(\"/content/drive/MyDrive/DATASETS/DS_ML Coding Challenge Dataset (1).xlsx - Test Dataset.csv\")"
      ],
      "metadata": {
        "execution": {
          "iopub.status.busy": "2024-05-11T19:24:16.015941Z",
          "iopub.execute_input": "2024-05-11T19:24:16.016924Z",
          "iopub.status.idle": "2024-05-11T19:24:16.036979Z",
          "shell.execute_reply.started": "2024-05-11T19:24:16.016889Z",
          "shell.execute_reply": "2024-05-11T19:24:16.036057Z"
        },
        "trusted": true,
        "id": "hXJtSvbbK-zd"
      },
      "execution_count": null,
      "outputs": []
    },
    {
      "cell_type": "code",
      "source": [
        "datatest.head()"
      ],
      "metadata": {
        "execution": {
          "iopub.status.busy": "2024-05-11T19:24:39.015240Z",
          "iopub.execute_input": "2024-05-11T19:24:39.015635Z",
          "iopub.status.idle": "2024-05-11T19:24:39.028689Z",
          "shell.execute_reply.started": "2024-05-11T19:24:39.015604Z",
          "shell.execute_reply": "2024-05-11T19:24:39.027646Z"
        },
        "trusted": true,
        "id": "nsL3cyubK-zd"
      },
      "execution_count": null,
      "outputs": []
    },
    {
      "cell_type": "code",
      "source": [
        "datatest['Month of Sourcing'] = pd.to_datetime(datatest['Month of Sourcing'], format='%b-%y')\n"
      ],
      "metadata": {
        "execution": {
          "iopub.status.busy": "2024-05-11T19:24:58.100136Z",
          "iopub.execute_input": "2024-05-11T19:24:58.100866Z",
          "iopub.status.idle": "2024-05-11T19:24:58.108993Z",
          "shell.execute_reply.started": "2024-05-11T19:24:58.100831Z",
          "shell.execute_reply": "2024-05-11T19:24:58.107853Z"
        },
        "trusted": true,
        "id": "UwYeQ7lsK-ze"
      },
      "execution_count": null,
      "outputs": []
    },
    {
      "cell_type": "code",
      "source": [
        "data_sorted2 = datatest.sort_values(by='Month of Sourcing')\n"
      ],
      "metadata": {
        "execution": {
          "iopub.status.busy": "2024-05-11T19:25:20.711498Z",
          "iopub.execute_input": "2024-05-11T19:25:20.711893Z",
          "iopub.status.idle": "2024-05-11T19:25:20.717937Z",
          "shell.execute_reply.started": "2024-05-11T19:25:20.711863Z",
          "shell.execute_reply": "2024-05-11T19:25:20.716683Z"
        },
        "trusted": true,
        "id": "oXbcxuNOK-ze"
      },
      "execution_count": null,
      "outputs": []
    },
    {
      "cell_type": "code",
      "source": [
        "data_sorted2.info()"
      ],
      "metadata": {
        "execution": {
          "iopub.status.busy": "2024-05-11T19:28:35.170212Z",
          "iopub.execute_input": "2024-05-11T19:28:35.171185Z",
          "iopub.status.idle": "2024-05-11T19:28:35.182617Z",
          "shell.execute_reply.started": "2024-05-11T19:28:35.171148Z",
          "shell.execute_reply": "2024-05-11T19:28:35.181446Z"
        },
        "trusted": true,
        "id": "WWuSgFSyK-ze"
      },
      "execution_count": null,
      "outputs": []
    },
    {
      "cell_type": "code",
      "source": [
        "data_encoded2 = data_sorted2.copy()\n",
        "columns_to_encode = ['ProductType', 'Manufacturer', 'Area Code', 'Sourcing Channel', 'Product Size', 'Product Type']\n",
        "\n",
        "for col in columns_to_encode:\n",
        "    data_encoded2[col] = label_encoder.fit_transform(data_sorted2[col])\n",
        "\n",
        "print(data_encoded2.head())\n"
      ],
      "metadata": {
        "execution": {
          "iopub.status.busy": "2024-05-11T19:29:08.347950Z",
          "iopub.execute_input": "2024-05-11T19:29:08.348646Z",
          "iopub.status.idle": "2024-05-11T19:29:08.362419Z",
          "shell.execute_reply.started": "2024-05-11T19:29:08.348604Z",
          "shell.execute_reply": "2024-05-11T19:29:08.361169Z"
        },
        "trusted": true,
        "id": "kmV6DDG5K-ze"
      },
      "execution_count": null,
      "outputs": []
    },
    {
      "cell_type": "markdown",
      "source": [
        "**PREDICTION BY RANDOM FOREST MODEL**"
      ],
      "metadata": {
        "id": "0156eaCIK-ze"
      }
    },
    {
      "cell_type": "code",
      "source": [
        "X_test = data_encoded2.drop(columns=['Sourcing Cost', 'Month of Sourcing'])\n",
        "\n",
        "rf_test_predictions = rf_model.predict(X_test)\n",
        "\n",
        "print(\"Predicted Sourcing Cost:\")\n",
        "print(rf_test_predictions)\n"
      ],
      "metadata": {
        "execution": {
          "iopub.status.busy": "2024-05-11T19:29:47.944918Z",
          "iopub.execute_input": "2024-05-11T19:29:47.945732Z",
          "iopub.status.idle": "2024-05-11T19:29:47.968228Z",
          "shell.execute_reply.started": "2024-05-11T19:29:47.945695Z",
          "shell.execute_reply": "2024-05-11T19:29:47.967154Z"
        },
        "trusted": true,
        "id": "pVYb99fZK-ze"
      },
      "execution_count": null,
      "outputs": []
    },
    {
      "cell_type": "code",
      "source": [
        "from sklearn.metrics import mean_squared_error, r2_score\n",
        "from math import sqrt\n",
        "\n",
        "y_test = data_encoded2['Sourcing Cost']\n",
        "\n",
        "rf_test_mse = mean_squared_error(y_test, rf_test_predictions)\n",
        "\n",
        "# Calculating RMSE for the test set\n",
        "rf_test_rmse = sqrt(rf_test_mse)\n",
        "\n",
        "# Calculating R-squared score for the test set\n",
        "rf_test_r2 = r2_score(y_test, rf_test_predictions)\n",
        "\n",
        "print(\"Test Dataset Metrics:\")\n",
        "print(\"Mean Squared Error (MSE):\", rf_test_mse)\n",
        "print(\"Root Mean Squared Error (RMSE):\", rf_test_rmse)\n",
        "print(\"R-squared (R2) Score:\", rf_test_r2)\n"
      ],
      "metadata": {
        "trusted": true,
        "id": "Yb2865FYK-ze"
      },
      "execution_count": null,
      "outputs": []
    },
    {
      "cell_type": "markdown",
      "source": [
        "**CONCLUSION:**\n",
        "\n",
        "In conclusion, based on the performance metrics obtained on unseen test data, the Random Forest trained model demonstrates promising results.\n",
        "\n",
        "Given these metrics, Random Forest emerges as a strong candidate for the initial model choice, particularly for this imbalanced dataset. Its ability to handle non-linearity, interactions, and outliers, coupled with its robust performance in predicting unseen data, underscores its suitability as a reliable starting point for further model refinement and exploration."
      ],
      "metadata": {
        "id": "w2-gHDVpO98Q"
      }
    },
    {
      "cell_type": "code",
      "source": [],
      "metadata": {
        "id": "J3-rs602K-zf"
      },
      "execution_count": null,
      "outputs": []
    }
  ]
}